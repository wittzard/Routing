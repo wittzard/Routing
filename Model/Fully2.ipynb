{
 "cells": [
  {
   "cell_type": "code",
   "execution_count": 11,
   "id": "c7e3c8dc-db90-4715-97d7-7ac931f7d6a6",
   "metadata": {},
   "outputs": [],
   "source": [
    "import folium\n",
    "import pandas as pd\n",
    "import Plotfolium"
   ]
  },
  {
   "cell_type": "code",
   "execution_count": 12,
   "id": "82c2b77d",
   "metadata": {},
   "outputs": [
    {
     "data": {
      "text/html": [
       "<div>\n",
       "<style scoped>\n",
       "    .dataframe tbody tr th:only-of-type {\n",
       "        vertical-align: middle;\n",
       "    }\n",
       "\n",
       "    .dataframe tbody tr th {\n",
       "        vertical-align: top;\n",
       "    }\n",
       "\n",
       "    .dataframe thead th {\n",
       "        text-align: right;\n",
       "    }\n",
       "</style>\n",
       "<table border=\"1\" class=\"dataframe\">\n",
       "  <thead>\n",
       "    <tr style=\"text-align: right;\">\n",
       "      <th></th>\n",
       "      <th>name</th>\n",
       "      <th>lat</th>\n",
       "      <th>lon</th>\n",
       "    </tr>\n",
       "  </thead>\n",
       "  <tbody>\n",
       "    <tr>\n",
       "      <th>0</th>\n",
       "      <td>New York</td>\n",
       "      <td>40.7</td>\n",
       "      <td>-74.0</td>\n",
       "    </tr>\n",
       "    <tr>\n",
       "      <th>1</th>\n",
       "      <td>Northern Canada</td>\n",
       "      <td>55.0</td>\n",
       "      <td>-74.0</td>\n",
       "    </tr>\n",
       "    <tr>\n",
       "      <th>2</th>\n",
       "      <td>Southern Sweden</td>\n",
       "      <td>55.0</td>\n",
       "      <td>14.0</td>\n",
       "    </tr>\n",
       "    <tr>\n",
       "      <th>3</th>\n",
       "      <td>British Columbia</td>\n",
       "      <td>50.0</td>\n",
       "      <td>-119.0</td>\n",
       "    </tr>\n",
       "    <tr>\n",
       "      <th>4</th>\n",
       "      <td>Saskatchewan</td>\n",
       "      <td>50.0</td>\n",
       "      <td>-104.0</td>\n",
       "    </tr>\n",
       "    <tr>\n",
       "      <th>5</th>\n",
       "      <td>Ukraine</td>\n",
       "      <td>50.0</td>\n",
       "      <td>29.0</td>\n",
       "    </tr>\n",
       "    <tr>\n",
       "      <th>6</th>\n",
       "      <td>Eastern Europe</td>\n",
       "      <td>50.0</td>\n",
       "      <td>44.0</td>\n",
       "    </tr>\n",
       "    <tr>\n",
       "      <th>7</th>\n",
       "      <td>Gulf of Mexico</td>\n",
       "      <td>30.0</td>\n",
       "      <td>-89.0</td>\n",
       "    </tr>\n",
       "    <tr>\n",
       "      <th>8</th>\n",
       "      <td>Egypt</td>\n",
       "      <td>30.0</td>\n",
       "      <td>29.0</td>\n",
       "    </tr>\n",
       "    <tr>\n",
       "      <th>9</th>\n",
       "      <td>Saudi Arabia</td>\n",
       "      <td>30.0</td>\n",
       "      <td>44.0</td>\n",
       "    </tr>\n",
       "    <tr>\n",
       "      <th>10</th>\n",
       "      <td>Western Iran</td>\n",
       "      <td>30.0</td>\n",
       "      <td>59.0</td>\n",
       "    </tr>\n",
       "    <tr>\n",
       "      <th>11</th>\n",
       "      <td>Mexico</td>\n",
       "      <td>20.0</td>\n",
       "      <td>-104.0</td>\n",
       "    </tr>\n",
       "    <tr>\n",
       "      <th>12</th>\n",
       "      <td>Yucatan Peninsula</td>\n",
       "      <td>20.0</td>\n",
       "      <td>-89.0</td>\n",
       "    </tr>\n",
       "    <tr>\n",
       "      <th>13</th>\n",
       "      <td>Mid-Atlantic</td>\n",
       "      <td>20.0</td>\n",
       "      <td>-44.0</td>\n",
       "    </tr>\n",
       "    <tr>\n",
       "      <th>14</th>\n",
       "      <td>Oman</td>\n",
       "      <td>20.0</td>\n",
       "      <td>44.0</td>\n",
       "    </tr>\n",
       "    <tr>\n",
       "      <th>15</th>\n",
       "      <td>Ecuador</td>\n",
       "      <td>0.0</td>\n",
       "      <td>-119.0</td>\n",
       "    </tr>\n",
       "    <tr>\n",
       "      <th>16</th>\n",
       "      <td>Maldives</td>\n",
       "      <td>0.0</td>\n",
       "      <td>59.0</td>\n",
       "    </tr>\n",
       "  </tbody>\n",
       "</table>\n",
       "</div>"
      ],
      "text/plain": [
       "                 name   lat    lon\n",
       "0            New York  40.7  -74.0\n",
       "1     Northern Canada  55.0  -74.0\n",
       "2     Southern Sweden  55.0   14.0\n",
       "3    British Columbia  50.0 -119.0\n",
       "4        Saskatchewan  50.0 -104.0\n",
       "5             Ukraine  50.0   29.0\n",
       "6      Eastern Europe  50.0   44.0\n",
       "7      Gulf of Mexico  30.0  -89.0\n",
       "8               Egypt  30.0   29.0\n",
       "9        Saudi Arabia  30.0   44.0\n",
       "10       Western Iran  30.0   59.0\n",
       "11             Mexico  20.0 -104.0\n",
       "12  Yucatan Peninsula  20.0  -89.0\n",
       "13       Mid-Atlantic  20.0  -44.0\n",
       "14               Oman  20.0   44.0\n",
       "15            Ecuador   0.0 -119.0\n",
       "16           Maldives   0.0   59.0"
      ]
     },
     "execution_count": 12,
     "metadata": {},
     "output_type": "execute_result"
    }
   ],
   "source": [
    "df_locations = pd.read_csv('./Data/locations2.csv')\n",
    "df_locations"
   ]
  },
  {
   "cell_type": "code",
   "execution_count": 13,
   "id": "4eb3b0ae",
   "metadata": {},
   "outputs": [
    {
     "name": "stdout",
     "output_type": "stream",
     "text": [
      "[[[np.float64(40.7), np.float64(-74.0)], [np.float64(55.0), np.float64(-74.0)]], [[np.float64(40.7), np.float64(-74.0)], [np.float64(55.0), np.float64(14.0)]], [[np.float64(40.7), np.float64(-74.0)], [np.float64(50.0), np.float64(-119.0)]], [[np.float64(40.7), np.float64(-74.0)], [np.float64(50.0), np.float64(-104.0)]], [[np.float64(40.7), np.float64(-74.0)], [np.float64(50.0), np.float64(29.0)]], [[np.float64(40.7), np.float64(-74.0)], [np.float64(50.0), np.float64(44.0)]], [[np.float64(40.7), np.float64(-74.0)], [np.float64(30.0), np.float64(-89.0)]], [[np.float64(40.7), np.float64(-74.0)], [np.float64(30.0), np.float64(29.0)]], [[np.float64(40.7), np.float64(-74.0)], [np.float64(30.0), np.float64(44.0)]], [[np.float64(40.7), np.float64(-74.0)], [np.float64(30.0), np.float64(59.0)]], [[np.float64(40.7), np.float64(-74.0)], [np.float64(20.0), np.float64(-104.0)]], [[np.float64(40.7), np.float64(-74.0)], [np.float64(20.0), np.float64(-89.0)]], [[np.float64(40.7), np.float64(-74.0)], [np.float64(20.0), np.float64(-44.0)]], [[np.float64(40.7), np.float64(-74.0)], [np.float64(20.0), np.float64(44.0)]], [[np.float64(40.7), np.float64(-74.0)], [np.float64(0.0), np.float64(-119.0)]], [[np.float64(40.7), np.float64(-74.0)], [np.float64(0.0), np.float64(59.0)]], [[np.float64(55.0), np.float64(-74.0)], [np.float64(55.0), np.float64(14.0)]], [[np.float64(55.0), np.float64(-74.0)], [np.float64(50.0), np.float64(-119.0)]], [[np.float64(55.0), np.float64(-74.0)], [np.float64(50.0), np.float64(-104.0)]], [[np.float64(55.0), np.float64(-74.0)], [np.float64(50.0), np.float64(29.0)]], [[np.float64(55.0), np.float64(-74.0)], [np.float64(50.0), np.float64(44.0)]], [[np.float64(55.0), np.float64(-74.0)], [np.float64(30.0), np.float64(-89.0)]], [[np.float64(55.0), np.float64(-74.0)], [np.float64(30.0), np.float64(29.0)]], [[np.float64(55.0), np.float64(-74.0)], [np.float64(30.0), np.float64(44.0)]], [[np.float64(55.0), np.float64(-74.0)], [np.float64(30.0), np.float64(59.0)]], [[np.float64(55.0), np.float64(-74.0)], [np.float64(20.0), np.float64(-104.0)]], [[np.float64(55.0), np.float64(-74.0)], [np.float64(20.0), np.float64(-89.0)]], [[np.float64(55.0), np.float64(-74.0)], [np.float64(20.0), np.float64(-44.0)]], [[np.float64(55.0), np.float64(-74.0)], [np.float64(20.0), np.float64(44.0)]], [[np.float64(55.0), np.float64(-74.0)], [np.float64(0.0), np.float64(-119.0)]], [[np.float64(55.0), np.float64(-74.0)], [np.float64(0.0), np.float64(59.0)]], [[np.float64(55.0), np.float64(14.0)], [np.float64(50.0), np.float64(-119.0)]], [[np.float64(55.0), np.float64(14.0)], [np.float64(50.0), np.float64(-104.0)]], [[np.float64(55.0), np.float64(14.0)], [np.float64(50.0), np.float64(29.0)]], [[np.float64(55.0), np.float64(14.0)], [np.float64(50.0), np.float64(44.0)]], [[np.float64(55.0), np.float64(14.0)], [np.float64(30.0), np.float64(-89.0)]], [[np.float64(55.0), np.float64(14.0)], [np.float64(30.0), np.float64(29.0)]], [[np.float64(55.0), np.float64(14.0)], [np.float64(30.0), np.float64(44.0)]], [[np.float64(55.0), np.float64(14.0)], [np.float64(30.0), np.float64(59.0)]], [[np.float64(55.0), np.float64(14.0)], [np.float64(20.0), np.float64(-104.0)]], [[np.float64(55.0), np.float64(14.0)], [np.float64(20.0), np.float64(-89.0)]], [[np.float64(55.0), np.float64(14.0)], [np.float64(20.0), np.float64(-44.0)]], [[np.float64(55.0), np.float64(14.0)], [np.float64(20.0), np.float64(44.0)]], [[np.float64(55.0), np.float64(14.0)], [np.float64(0.0), np.float64(-119.0)]], [[np.float64(55.0), np.float64(14.0)], [np.float64(0.0), np.float64(59.0)]], [[np.float64(50.0), np.float64(-119.0)], [np.float64(50.0), np.float64(-104.0)]], [[np.float64(50.0), np.float64(-119.0)], [np.float64(50.0), np.float64(29.0)]], [[np.float64(50.0), np.float64(-119.0)], [np.float64(50.0), np.float64(44.0)]], [[np.float64(50.0), np.float64(-119.0)], [np.float64(30.0), np.float64(-89.0)]], [[np.float64(50.0), np.float64(-119.0)], [np.float64(30.0), np.float64(29.0)]], [[np.float64(50.0), np.float64(-119.0)], [np.float64(30.0), np.float64(44.0)]], [[np.float64(50.0), np.float64(-119.0)], [np.float64(30.0), np.float64(59.0)]], [[np.float64(50.0), np.float64(-119.0)], [np.float64(20.0), np.float64(-104.0)]], [[np.float64(50.0), np.float64(-119.0)], [np.float64(20.0), np.float64(-89.0)]], [[np.float64(50.0), np.float64(-119.0)], [np.float64(20.0), np.float64(-44.0)]], [[np.float64(50.0), np.float64(-119.0)], [np.float64(20.0), np.float64(44.0)]], [[np.float64(50.0), np.float64(-119.0)], [np.float64(0.0), np.float64(-119.0)]], [[np.float64(50.0), np.float64(-119.0)], [np.float64(0.0), np.float64(59.0)]], [[np.float64(50.0), np.float64(-104.0)], [np.float64(50.0), np.float64(29.0)]], [[np.float64(50.0), np.float64(-104.0)], [np.float64(50.0), np.float64(44.0)]], [[np.float64(50.0), np.float64(-104.0)], [np.float64(30.0), np.float64(-89.0)]], [[np.float64(50.0), np.float64(-104.0)], [np.float64(30.0), np.float64(29.0)]], [[np.float64(50.0), np.float64(-104.0)], [np.float64(30.0), np.float64(44.0)]], [[np.float64(50.0), np.float64(-104.0)], [np.float64(30.0), np.float64(59.0)]], [[np.float64(50.0), np.float64(-104.0)], [np.float64(20.0), np.float64(-104.0)]], [[np.float64(50.0), np.float64(-104.0)], [np.float64(20.0), np.float64(-89.0)]], [[np.float64(50.0), np.float64(-104.0)], [np.float64(20.0), np.float64(-44.0)]], [[np.float64(50.0), np.float64(-104.0)], [np.float64(20.0), np.float64(44.0)]], [[np.float64(50.0), np.float64(-104.0)], [np.float64(0.0), np.float64(-119.0)]], [[np.float64(50.0), np.float64(-104.0)], [np.float64(0.0), np.float64(59.0)]], [[np.float64(50.0), np.float64(29.0)], [np.float64(50.0), np.float64(44.0)]], [[np.float64(50.0), np.float64(29.0)], [np.float64(30.0), np.float64(-89.0)]], [[np.float64(50.0), np.float64(29.0)], [np.float64(30.0), np.float64(29.0)]], [[np.float64(50.0), np.float64(29.0)], [np.float64(30.0), np.float64(44.0)]], [[np.float64(50.0), np.float64(29.0)], [np.float64(30.0), np.float64(59.0)]], [[np.float64(50.0), np.float64(29.0)], [np.float64(20.0), np.float64(-104.0)]], [[np.float64(50.0), np.float64(29.0)], [np.float64(20.0), np.float64(-89.0)]], [[np.float64(50.0), np.float64(29.0)], [np.float64(20.0), np.float64(-44.0)]], [[np.float64(50.0), np.float64(29.0)], [np.float64(20.0), np.float64(44.0)]], [[np.float64(50.0), np.float64(29.0)], [np.float64(0.0), np.float64(-119.0)]], [[np.float64(50.0), np.float64(29.0)], [np.float64(0.0), np.float64(59.0)]], [[np.float64(50.0), np.float64(44.0)], [np.float64(30.0), np.float64(-89.0)]], [[np.float64(50.0), np.float64(44.0)], [np.float64(30.0), np.float64(29.0)]], [[np.float64(50.0), np.float64(44.0)], [np.float64(30.0), np.float64(44.0)]], [[np.float64(50.0), np.float64(44.0)], [np.float64(30.0), np.float64(59.0)]], [[np.float64(50.0), np.float64(44.0)], [np.float64(20.0), np.float64(-104.0)]], [[np.float64(50.0), np.float64(44.0)], [np.float64(20.0), np.float64(-89.0)]], [[np.float64(50.0), np.float64(44.0)], [np.float64(20.0), np.float64(-44.0)]], [[np.float64(50.0), np.float64(44.0)], [np.float64(20.0), np.float64(44.0)]], [[np.float64(50.0), np.float64(44.0)], [np.float64(0.0), np.float64(-119.0)]], [[np.float64(50.0), np.float64(44.0)], [np.float64(0.0), np.float64(59.0)]], [[np.float64(30.0), np.float64(-89.0)], [np.float64(30.0), np.float64(29.0)]], [[np.float64(30.0), np.float64(-89.0)], [np.float64(30.0), np.float64(44.0)]], [[np.float64(30.0), np.float64(-89.0)], [np.float64(30.0), np.float64(59.0)]], [[np.float64(30.0), np.float64(-89.0)], [np.float64(20.0), np.float64(-104.0)]], [[np.float64(30.0), np.float64(-89.0)], [np.float64(20.0), np.float64(-89.0)]], [[np.float64(30.0), np.float64(-89.0)], [np.float64(20.0), np.float64(-44.0)]], [[np.float64(30.0), np.float64(-89.0)], [np.float64(20.0), np.float64(44.0)]], [[np.float64(30.0), np.float64(-89.0)], [np.float64(0.0), np.float64(-119.0)]], [[np.float64(30.0), np.float64(-89.0)], [np.float64(0.0), np.float64(59.0)]], [[np.float64(30.0), np.float64(29.0)], [np.float64(30.0), np.float64(44.0)]], [[np.float64(30.0), np.float64(29.0)], [np.float64(30.0), np.float64(59.0)]], [[np.float64(30.0), np.float64(29.0)], [np.float64(20.0), np.float64(-104.0)]], [[np.float64(30.0), np.float64(29.0)], [np.float64(20.0), np.float64(-89.0)]], [[np.float64(30.0), np.float64(29.0)], [np.float64(20.0), np.float64(-44.0)]], [[np.float64(30.0), np.float64(29.0)], [np.float64(20.0), np.float64(44.0)]], [[np.float64(30.0), np.float64(29.0)], [np.float64(0.0), np.float64(-119.0)]], [[np.float64(30.0), np.float64(29.0)], [np.float64(0.0), np.float64(59.0)]], [[np.float64(30.0), np.float64(44.0)], [np.float64(30.0), np.float64(59.0)]], [[np.float64(30.0), np.float64(44.0)], [np.float64(20.0), np.float64(-104.0)]], [[np.float64(30.0), np.float64(44.0)], [np.float64(20.0), np.float64(-89.0)]], [[np.float64(30.0), np.float64(44.0)], [np.float64(20.0), np.float64(-44.0)]], [[np.float64(30.0), np.float64(44.0)], [np.float64(20.0), np.float64(44.0)]], [[np.float64(30.0), np.float64(44.0)], [np.float64(0.0), np.float64(-119.0)]], [[np.float64(30.0), np.float64(44.0)], [np.float64(0.0), np.float64(59.0)]], [[np.float64(30.0), np.float64(59.0)], [np.float64(20.0), np.float64(-104.0)]], [[np.float64(30.0), np.float64(59.0)], [np.float64(20.0), np.float64(-89.0)]], [[np.float64(30.0), np.float64(59.0)], [np.float64(20.0), np.float64(-44.0)]], [[np.float64(30.0), np.float64(59.0)], [np.float64(20.0), np.float64(44.0)]], [[np.float64(30.0), np.float64(59.0)], [np.float64(0.0), np.float64(-119.0)]], [[np.float64(30.0), np.float64(59.0)], [np.float64(0.0), np.float64(59.0)]], [[np.float64(20.0), np.float64(-104.0)], [np.float64(20.0), np.float64(-89.0)]], [[np.float64(20.0), np.float64(-104.0)], [np.float64(20.0), np.float64(-44.0)]], [[np.float64(20.0), np.float64(-104.0)], [np.float64(20.0), np.float64(44.0)]], [[np.float64(20.0), np.float64(-104.0)], [np.float64(0.0), np.float64(-119.0)]], [[np.float64(20.0), np.float64(-104.0)], [np.float64(0.0), np.float64(59.0)]], [[np.float64(20.0), np.float64(-89.0)], [np.float64(20.0), np.float64(-44.0)]], [[np.float64(20.0), np.float64(-89.0)], [np.float64(20.0), np.float64(44.0)]], [[np.float64(20.0), np.float64(-89.0)], [np.float64(0.0), np.float64(-119.0)]], [[np.float64(20.0), np.float64(-89.0)], [np.float64(0.0), np.float64(59.0)]], [[np.float64(20.0), np.float64(-44.0)], [np.float64(20.0), np.float64(44.0)]], [[np.float64(20.0), np.float64(-44.0)], [np.float64(0.0), np.float64(-119.0)]], [[np.float64(20.0), np.float64(-44.0)], [np.float64(0.0), np.float64(59.0)]], [[np.float64(20.0), np.float64(44.0)], [np.float64(0.0), np.float64(-119.0)]], [[np.float64(20.0), np.float64(44.0)], [np.float64(0.0), np.float64(59.0)]], [[np.float64(0.0), np.float64(-119.0)], [np.float64(0.0), np.float64(59.0)]]]\n"
     ]
    }
   ],
   "source": [
    "# Funtinon for find coordinates of all Connected node\n",
    "def ConnectedAllNode(df):\n",
    "    coordinates = []\n",
    "    n = len(df)\n",
    "    for i in range(len(df)):\n",
    "        for j in range(i+1, len(df)):\n",
    "            coordinate = []\n",
    "            point1 = [df.iloc[i]['lat'], df.iloc[i]['lon']]\n",
    "            point2 = [df.iloc[j]['lat'], df.iloc[j]['lon']]\n",
    "            coordinate.append(point1)\n",
    "            coordinate.append(point2)\n",
    "            coordinates.append(coordinate)\n",
    "    return coordinates\n",
    "\n",
    "coordinates = ConnectedAllNode(df_locations)\n",
    "print(coordinates)"
   ]
  },
  {
   "cell_type": "code",
   "execution_count": 16,
   "id": "7259b7ca",
   "metadata": {},
   "outputs": [
    {
     "ename": "TypeError",
     "evalue": "'module' object is not callable",
     "output_type": "error",
     "traceback": [
      "\u001b[1;31m---------------------------------------------------------------------------\u001b[0m",
      "\u001b[1;31mTypeError\u001b[0m                                 Traceback (most recent call last)",
      "Cell \u001b[1;32mIn[16], line 1\u001b[0m\n\u001b[1;32m----> 1\u001b[0m plot \u001b[38;5;241m=\u001b[39m \u001b[43mPlotfolium\u001b[49m\u001b[43m(\u001b[49m\u001b[43mdf_locations\u001b[49m\u001b[43m,\u001b[49m\u001b[43m \u001b[49m\u001b[43mcoordinates\u001b[49m\u001b[43m)\u001b[49m\n",
      "\u001b[1;31mTypeError\u001b[0m: 'module' object is not callable"
     ]
    },
    {
     "ename": "",
     "evalue": "",
     "output_type": "error",
     "traceback": [
      "\u001b[1;31mThe Kernel crashed while executing code in the current cell or a previous cell. \n",
      "\u001b[1;31mPlease review the code in the cell(s) to identify a possible cause of the failure. \n",
      "\u001b[1;31mClick <a href='https://aka.ms/vscodeJupyterKernelCrash'>here</a> for more info. \n",
      "\u001b[1;31mView Jupyter <a href='command:jupyter.viewOutput'>log</a> for further details."
     ]
    }
   ],
   "source": [
    "plot = Plotfolium(df_locations, coordinates)"
   ]
  },
  {
   "cell_type": "code",
   "execution_count": null,
   "id": "8c87170b-7078-484c-b246-71014ac6ee31",
   "metadata": {},
   "outputs": [],
   "source": [
    "# Initialize map\n",
    "map_center = [df_locations['lat'].mean(), df_locations['lon'].mean()]\n",
    "custom =\"cartodb positron\"\n",
    "map = folium.Map(location=map_center, zoom_start=1.5, tiles=custom)\n",
    "\n",
    "# Choose location\n",
    "locations = df_locations\n",
    "\n",
    "# Name of map\n",
    "map_name = \"./maps/Fully2.html\"\n",
    "map.save(map_name)"
   ]
  },
  {
   "cell_type": "code",
   "execution_count": null,
   "id": "add59026",
   "metadata": {},
   "outputs": [],
   "source": [
    "# Add marker\n",
    "for _, row in df_locations.iterrows():\n",
    "    folium.Circle(\n",
    "        location=[row['lat'],row['lon']],\n",
    "        radius=10000,  # Radius in pixels\n",
    "        color='red',\n",
    "        fill=True,\n",
    "        fill_color='red',\n",
    "        fill_opacity=0.6,\n",
    "        tooltip=row['name'],\n",
    "    ).add_to(map)\n",
    "        \n",
    "\n",
    "map.save(map_name)"
   ]
  },
  {
   "cell_type": "code",
   "execution_count": null,
   "id": "5b3d801e",
   "metadata": {},
   "outputs": [
    {
     "name": "stdout",
     "output_type": "stream",
     "text": [
      "[[[np.float64(40.7), np.float64(-74.0)], [np.float64(55.0), np.float64(-74.0)]], [[np.float64(40.7), np.float64(-74.0)], [np.float64(55.0), np.float64(14.0)]], [[np.float64(40.7), np.float64(-74.0)], [np.float64(50.0), np.float64(-119.0)]], [[np.float64(40.7), np.float64(-74.0)], [np.float64(50.0), np.float64(-104.0)]], [[np.float64(40.7), np.float64(-74.0)], [np.float64(50.0), np.float64(29.0)]], [[np.float64(40.7), np.float64(-74.0)], [np.float64(50.0), np.float64(44.0)]], [[np.float64(40.7), np.float64(-74.0)], [np.float64(30.0), np.float64(-89.0)]], [[np.float64(40.7), np.float64(-74.0)], [np.float64(30.0), np.float64(29.0)]], [[np.float64(40.7), np.float64(-74.0)], [np.float64(30.0), np.float64(44.0)]], [[np.float64(40.7), np.float64(-74.0)], [np.float64(30.0), np.float64(59.0)]], [[np.float64(40.7), np.float64(-74.0)], [np.float64(20.0), np.float64(-104.0)]], [[np.float64(40.7), np.float64(-74.0)], [np.float64(20.0), np.float64(-89.0)]], [[np.float64(40.7), np.float64(-74.0)], [np.float64(20.0), np.float64(-44.0)]], [[np.float64(40.7), np.float64(-74.0)], [np.float64(20.0), np.float64(44.0)]], [[np.float64(40.7), np.float64(-74.0)], [np.float64(0.0), np.float64(-119.0)]], [[np.float64(40.7), np.float64(-74.0)], [np.float64(0.0), np.float64(59.0)]], [[np.float64(55.0), np.float64(-74.0)], [np.float64(55.0), np.float64(14.0)]], [[np.float64(55.0), np.float64(-74.0)], [np.float64(50.0), np.float64(-119.0)]], [[np.float64(55.0), np.float64(-74.0)], [np.float64(50.0), np.float64(-104.0)]], [[np.float64(55.0), np.float64(-74.0)], [np.float64(50.0), np.float64(29.0)]], [[np.float64(55.0), np.float64(-74.0)], [np.float64(50.0), np.float64(44.0)]], [[np.float64(55.0), np.float64(-74.0)], [np.float64(30.0), np.float64(-89.0)]], [[np.float64(55.0), np.float64(-74.0)], [np.float64(30.0), np.float64(29.0)]], [[np.float64(55.0), np.float64(-74.0)], [np.float64(30.0), np.float64(44.0)]], [[np.float64(55.0), np.float64(-74.0)], [np.float64(30.0), np.float64(59.0)]], [[np.float64(55.0), np.float64(-74.0)], [np.float64(20.0), np.float64(-104.0)]], [[np.float64(55.0), np.float64(-74.0)], [np.float64(20.0), np.float64(-89.0)]], [[np.float64(55.0), np.float64(-74.0)], [np.float64(20.0), np.float64(-44.0)]], [[np.float64(55.0), np.float64(-74.0)], [np.float64(20.0), np.float64(44.0)]], [[np.float64(55.0), np.float64(-74.0)], [np.float64(0.0), np.float64(-119.0)]], [[np.float64(55.0), np.float64(-74.0)], [np.float64(0.0), np.float64(59.0)]], [[np.float64(55.0), np.float64(14.0)], [np.float64(50.0), np.float64(-119.0)]], [[np.float64(55.0), np.float64(14.0)], [np.float64(50.0), np.float64(-104.0)]], [[np.float64(55.0), np.float64(14.0)], [np.float64(50.0), np.float64(29.0)]], [[np.float64(55.0), np.float64(14.0)], [np.float64(50.0), np.float64(44.0)]], [[np.float64(55.0), np.float64(14.0)], [np.float64(30.0), np.float64(-89.0)]], [[np.float64(55.0), np.float64(14.0)], [np.float64(30.0), np.float64(29.0)]], [[np.float64(55.0), np.float64(14.0)], [np.float64(30.0), np.float64(44.0)]], [[np.float64(55.0), np.float64(14.0)], [np.float64(30.0), np.float64(59.0)]], [[np.float64(55.0), np.float64(14.0)], [np.float64(20.0), np.float64(-104.0)]], [[np.float64(55.0), np.float64(14.0)], [np.float64(20.0), np.float64(-89.0)]], [[np.float64(55.0), np.float64(14.0)], [np.float64(20.0), np.float64(-44.0)]], [[np.float64(55.0), np.float64(14.0)], [np.float64(20.0), np.float64(44.0)]], [[np.float64(55.0), np.float64(14.0)], [np.float64(0.0), np.float64(-119.0)]], [[np.float64(55.0), np.float64(14.0)], [np.float64(0.0), np.float64(59.0)]], [[np.float64(50.0), np.float64(-119.0)], [np.float64(50.0), np.float64(-104.0)]], [[np.float64(50.0), np.float64(-119.0)], [np.float64(50.0), np.float64(29.0)]], [[np.float64(50.0), np.float64(-119.0)], [np.float64(50.0), np.float64(44.0)]], [[np.float64(50.0), np.float64(-119.0)], [np.float64(30.0), np.float64(-89.0)]], [[np.float64(50.0), np.float64(-119.0)], [np.float64(30.0), np.float64(29.0)]], [[np.float64(50.0), np.float64(-119.0)], [np.float64(30.0), np.float64(44.0)]], [[np.float64(50.0), np.float64(-119.0)], [np.float64(30.0), np.float64(59.0)]], [[np.float64(50.0), np.float64(-119.0)], [np.float64(20.0), np.float64(-104.0)]], [[np.float64(50.0), np.float64(-119.0)], [np.float64(20.0), np.float64(-89.0)]], [[np.float64(50.0), np.float64(-119.0)], [np.float64(20.0), np.float64(-44.0)]], [[np.float64(50.0), np.float64(-119.0)], [np.float64(20.0), np.float64(44.0)]], [[np.float64(50.0), np.float64(-119.0)], [np.float64(0.0), np.float64(-119.0)]], [[np.float64(50.0), np.float64(-119.0)], [np.float64(0.0), np.float64(59.0)]], [[np.float64(50.0), np.float64(-104.0)], [np.float64(50.0), np.float64(29.0)]], [[np.float64(50.0), np.float64(-104.0)], [np.float64(50.0), np.float64(44.0)]], [[np.float64(50.0), np.float64(-104.0)], [np.float64(30.0), np.float64(-89.0)]], [[np.float64(50.0), np.float64(-104.0)], [np.float64(30.0), np.float64(29.0)]], [[np.float64(50.0), np.float64(-104.0)], [np.float64(30.0), np.float64(44.0)]], [[np.float64(50.0), np.float64(-104.0)], [np.float64(30.0), np.float64(59.0)]], [[np.float64(50.0), np.float64(-104.0)], [np.float64(20.0), np.float64(-104.0)]], [[np.float64(50.0), np.float64(-104.0)], [np.float64(20.0), np.float64(-89.0)]], [[np.float64(50.0), np.float64(-104.0)], [np.float64(20.0), np.float64(-44.0)]], [[np.float64(50.0), np.float64(-104.0)], [np.float64(20.0), np.float64(44.0)]], [[np.float64(50.0), np.float64(-104.0)], [np.float64(0.0), np.float64(-119.0)]], [[np.float64(50.0), np.float64(-104.0)], [np.float64(0.0), np.float64(59.0)]], [[np.float64(50.0), np.float64(29.0)], [np.float64(50.0), np.float64(44.0)]], [[np.float64(50.0), np.float64(29.0)], [np.float64(30.0), np.float64(-89.0)]], [[np.float64(50.0), np.float64(29.0)], [np.float64(30.0), np.float64(29.0)]], [[np.float64(50.0), np.float64(29.0)], [np.float64(30.0), np.float64(44.0)]], [[np.float64(50.0), np.float64(29.0)], [np.float64(30.0), np.float64(59.0)]], [[np.float64(50.0), np.float64(29.0)], [np.float64(20.0), np.float64(-104.0)]], [[np.float64(50.0), np.float64(29.0)], [np.float64(20.0), np.float64(-89.0)]], [[np.float64(50.0), np.float64(29.0)], [np.float64(20.0), np.float64(-44.0)]], [[np.float64(50.0), np.float64(29.0)], [np.float64(20.0), np.float64(44.0)]], [[np.float64(50.0), np.float64(29.0)], [np.float64(0.0), np.float64(-119.0)]], [[np.float64(50.0), np.float64(29.0)], [np.float64(0.0), np.float64(59.0)]], [[np.float64(50.0), np.float64(44.0)], [np.float64(30.0), np.float64(-89.0)]], [[np.float64(50.0), np.float64(44.0)], [np.float64(30.0), np.float64(29.0)]], [[np.float64(50.0), np.float64(44.0)], [np.float64(30.0), np.float64(44.0)]], [[np.float64(50.0), np.float64(44.0)], [np.float64(30.0), np.float64(59.0)]], [[np.float64(50.0), np.float64(44.0)], [np.float64(20.0), np.float64(-104.0)]], [[np.float64(50.0), np.float64(44.0)], [np.float64(20.0), np.float64(-89.0)]], [[np.float64(50.0), np.float64(44.0)], [np.float64(20.0), np.float64(-44.0)]], [[np.float64(50.0), np.float64(44.0)], [np.float64(20.0), np.float64(44.0)]], [[np.float64(50.0), np.float64(44.0)], [np.float64(0.0), np.float64(-119.0)]], [[np.float64(50.0), np.float64(44.0)], [np.float64(0.0), np.float64(59.0)]], [[np.float64(30.0), np.float64(-89.0)], [np.float64(30.0), np.float64(29.0)]], [[np.float64(30.0), np.float64(-89.0)], [np.float64(30.0), np.float64(44.0)]], [[np.float64(30.0), np.float64(-89.0)], [np.float64(30.0), np.float64(59.0)]], [[np.float64(30.0), np.float64(-89.0)], [np.float64(20.0), np.float64(-104.0)]], [[np.float64(30.0), np.float64(-89.0)], [np.float64(20.0), np.float64(-89.0)]], [[np.float64(30.0), np.float64(-89.0)], [np.float64(20.0), np.float64(-44.0)]], [[np.float64(30.0), np.float64(-89.0)], [np.float64(20.0), np.float64(44.0)]], [[np.float64(30.0), np.float64(-89.0)], [np.float64(0.0), np.float64(-119.0)]], [[np.float64(30.0), np.float64(-89.0)], [np.float64(0.0), np.float64(59.0)]], [[np.float64(30.0), np.float64(29.0)], [np.float64(30.0), np.float64(44.0)]], [[np.float64(30.0), np.float64(29.0)], [np.float64(30.0), np.float64(59.0)]], [[np.float64(30.0), np.float64(29.0)], [np.float64(20.0), np.float64(-104.0)]], [[np.float64(30.0), np.float64(29.0)], [np.float64(20.0), np.float64(-89.0)]], [[np.float64(30.0), np.float64(29.0)], [np.float64(20.0), np.float64(-44.0)]], [[np.float64(30.0), np.float64(29.0)], [np.float64(20.0), np.float64(44.0)]], [[np.float64(30.0), np.float64(29.0)], [np.float64(0.0), np.float64(-119.0)]], [[np.float64(30.0), np.float64(29.0)], [np.float64(0.0), np.float64(59.0)]], [[np.float64(30.0), np.float64(44.0)], [np.float64(30.0), np.float64(59.0)]], [[np.float64(30.0), np.float64(44.0)], [np.float64(20.0), np.float64(-104.0)]], [[np.float64(30.0), np.float64(44.0)], [np.float64(20.0), np.float64(-89.0)]], [[np.float64(30.0), np.float64(44.0)], [np.float64(20.0), np.float64(-44.0)]], [[np.float64(30.0), np.float64(44.0)], [np.float64(20.0), np.float64(44.0)]], [[np.float64(30.0), np.float64(44.0)], [np.float64(0.0), np.float64(-119.0)]], [[np.float64(30.0), np.float64(44.0)], [np.float64(0.0), np.float64(59.0)]], [[np.float64(30.0), np.float64(59.0)], [np.float64(20.0), np.float64(-104.0)]], [[np.float64(30.0), np.float64(59.0)], [np.float64(20.0), np.float64(-89.0)]], [[np.float64(30.0), np.float64(59.0)], [np.float64(20.0), np.float64(-44.0)]], [[np.float64(30.0), np.float64(59.0)], [np.float64(20.0), np.float64(44.0)]], [[np.float64(30.0), np.float64(59.0)], [np.float64(0.0), np.float64(-119.0)]], [[np.float64(30.0), np.float64(59.0)], [np.float64(0.0), np.float64(59.0)]], [[np.float64(20.0), np.float64(-104.0)], [np.float64(20.0), np.float64(-89.0)]], [[np.float64(20.0), np.float64(-104.0)], [np.float64(20.0), np.float64(-44.0)]], [[np.float64(20.0), np.float64(-104.0)], [np.float64(20.0), np.float64(44.0)]], [[np.float64(20.0), np.float64(-104.0)], [np.float64(0.0), np.float64(-119.0)]], [[np.float64(20.0), np.float64(-104.0)], [np.float64(0.0), np.float64(59.0)]], [[np.float64(20.0), np.float64(-89.0)], [np.float64(20.0), np.float64(-44.0)]], [[np.float64(20.0), np.float64(-89.0)], [np.float64(20.0), np.float64(44.0)]], [[np.float64(20.0), np.float64(-89.0)], [np.float64(0.0), np.float64(-119.0)]], [[np.float64(20.0), np.float64(-89.0)], [np.float64(0.0), np.float64(59.0)]], [[np.float64(20.0), np.float64(-44.0)], [np.float64(20.0), np.float64(44.0)]], [[np.float64(20.0), np.float64(-44.0)], [np.float64(0.0), np.float64(-119.0)]], [[np.float64(20.0), np.float64(-44.0)], [np.float64(0.0), np.float64(59.0)]], [[np.float64(20.0), np.float64(44.0)], [np.float64(0.0), np.float64(-119.0)]], [[np.float64(20.0), np.float64(44.0)], [np.float64(0.0), np.float64(59.0)]], [[np.float64(0.0), np.float64(-119.0)], [np.float64(0.0), np.float64(59.0)]]]\n"
     ]
    }
   ],
   "source": [
    "# Funtinon for find coordinates of all Connected node\n",
    "def ConnectedAllNode(df):\n",
    "    coordinates = []\n",
    "    n = len(df)\n",
    "    for i in range(len(df)):\n",
    "        for j in range(i+1, len(df)):\n",
    "            coordinate = []\n",
    "            point1 = [df.iloc[i]['lat'], df.iloc[i]['lon']]\n",
    "            point2 = [df.iloc[j]['lat'], df.iloc[j]['lon']]\n",
    "            coordinate.append(point1)\n",
    "            coordinate.append(point2)\n",
    "            coordinates.append(coordinate)\n",
    "    return coordinates\n",
    "\n",
    "coordinates = ConnectedAllNode(df_locations)\n",
    "print(coordinates)"
   ]
  },
  {
   "cell_type": "code",
   "execution_count": null,
   "id": "9a23f1bf",
   "metadata": {},
   "outputs": [],
   "source": [
    "coordinates = ConnectedAllNode(df_locations)\n",
    "# Add edge for all connected node\n",
    "folium.PolyLine(\n",
    "    locations=coordinates,\n",
    "    color=\"green\",\n",
    "    weight=0.2,\n",
    "    tooltip=\"All connected node\"\n",
    ").add_to(map)\n",
    "\n",
    "map.save(map_name)"
   ]
  }
 ],
 "metadata": {
  "kernelspec": {
   "display_name": "Python 3 (ipykernel)",
   "language": "python",
   "name": "python3"
  },
  "language_info": {
   "codemirror_mode": {
    "name": "ipython",
    "version": 3
   },
   "file_extension": ".py",
   "mimetype": "text/x-python",
   "name": "python",
   "nbconvert_exporter": "python",
   "pygments_lexer": "ipython3",
   "version": "3.12.4"
  }
 },
 "nbformat": 4,
 "nbformat_minor": 5
}
