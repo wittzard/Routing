{
 "cells": [
  {
   "cell_type": "code",
   "execution_count": 58,
   "metadata": {},
   "outputs": [],
   "source": [
    "import folium\n",
    "import time\n",
    "import numpy as np\n",
    "import pandas as pd\n",
    "from Distance import DistanceMatrix\n",
    "import ortools\n",
    "from ortools.constraint_solver import routing_enums_pb2\n",
    "from ortools.constraint_solver import pywrapcp"
   ]
  },
  {
   "cell_type": "code",
   "execution_count": 59,
   "metadata": {},
   "outputs": [
    {
     "data": {
      "text/html": [
       "<div>\n",
       "<style scoped>\n",
       "    .dataframe tbody tr th:only-of-type {\n",
       "        vertical-align: middle;\n",
       "    }\n",
       "\n",
       "    .dataframe tbody tr th {\n",
       "        vertical-align: top;\n",
       "    }\n",
       "\n",
       "    .dataframe thead th {\n",
       "        text-align: right;\n",
       "    }\n",
       "</style>\n",
       "<table border=\"1\" class=\"dataframe\">\n",
       "  <thead>\n",
       "    <tr style=\"text-align: right;\">\n",
       "      <th></th>\n",
       "      <th>name</th>\n",
       "      <th>lat</th>\n",
       "      <th>lon</th>\n",
       "    </tr>\n",
       "  </thead>\n",
       "  <tbody>\n",
       "    <tr>\n",
       "      <th>0</th>\n",
       "      <td>San Diego_CA</td>\n",
       "      <td>32.7157</td>\n",
       "      <td>-117.1611</td>\n",
       "    </tr>\n",
       "    <tr>\n",
       "      <th>1</th>\n",
       "      <td>Austin_TX</td>\n",
       "      <td>30.2672</td>\n",
       "      <td>-97.7431</td>\n",
       "    </tr>\n",
       "    <tr>\n",
       "      <th>2</th>\n",
       "      <td>Denver_CO</td>\n",
       "      <td>39.7392</td>\n",
       "      <td>-104.9903</td>\n",
       "    </tr>\n",
       "    <tr>\n",
       "      <th>3</th>\n",
       "      <td>Seattle_WA</td>\n",
       "      <td>47.6062</td>\n",
       "      <td>-122.3321</td>\n",
       "    </tr>\n",
       "    <tr>\n",
       "      <th>4</th>\n",
       "      <td>Charleston_SC</td>\n",
       "      <td>32.7765</td>\n",
       "      <td>-79.9311</td>\n",
       "    </tr>\n",
       "    <tr>\n",
       "      <th>5</th>\n",
       "      <td>Portland_ME</td>\n",
       "      <td>43.6615</td>\n",
       "      <td>-70.2793</td>\n",
       "    </tr>\n",
       "    <tr>\n",
       "      <th>6</th>\n",
       "      <td>Salt Lake City_UT</td>\n",
       "      <td>40.7608</td>\n",
       "      <td>-111.8910</td>\n",
       "    </tr>\n",
       "    <tr>\n",
       "      <th>7</th>\n",
       "      <td>Nashville_TN</td>\n",
       "      <td>36.1627</td>\n",
       "      <td>-86.7816</td>\n",
       "    </tr>\n",
       "    <tr>\n",
       "      <th>8</th>\n",
       "      <td>Minneapolis_MN</td>\n",
       "      <td>44.9778</td>\n",
       "      <td>-93.2650</td>\n",
       "    </tr>\n",
       "    <tr>\n",
       "      <th>9</th>\n",
       "      <td>Savannah_GA</td>\n",
       "      <td>32.0780</td>\n",
       "      <td>-81.0912</td>\n",
       "    </tr>\n",
       "  </tbody>\n",
       "</table>\n",
       "</div>"
      ],
      "text/plain": [
       "                name      lat       lon\n",
       "0       San Diego_CA  32.7157 -117.1611\n",
       "1          Austin_TX  30.2672  -97.7431\n",
       "2          Denver_CO  39.7392 -104.9903\n",
       "3         Seattle_WA  47.6062 -122.3321\n",
       "4      Charleston_SC  32.7765  -79.9311\n",
       "5        Portland_ME  43.6615  -70.2793\n",
       "6  Salt Lake City_UT  40.7608 -111.8910\n",
       "7       Nashville_TN  36.1627  -86.7816\n",
       "8     Minneapolis_MN  44.9778  -93.2650\n",
       "9        Savannah_GA  32.0780  -81.0912"
      ]
     },
     "execution_count": 59,
     "metadata": {},
     "output_type": "execute_result"
    }
   ],
   "source": [
    "df_locations = pd.read_csv('./Data/locations.csv')\n",
    "df_locations"
   ]
  },
  {
   "cell_type": "code",
   "execution_count": 60,
   "metadata": {},
   "outputs": [
    {
     "data": {
      "text/plain": [
       "[[0, 2416, 1742, 2226, 4503, 5479, 1313, 3641, 3203, 4383],\n",
       " [2416, 0, 1614, 3703, 2222, 3691, 2247, 1574, 2187, 2074],\n",
       " [1742, 1614, 0, 2133, 3078, 3762, 775, 2135, 1461, 2998],\n",
       " [2226, 3703, 2133, 0, 5071, 5194, 1464, 4123, 2911, 5022],\n",
       " [4503, 2222, 3078, 5071, 0, 1915, 3853, 951, 2310, 173],\n",
       " [5479, 3691, 3762, 5194, 1915, 0, 4429, 2121, 2377, 2076],\n",
       " [1313, 2247, 775, 1464, 3853, 4429, 0, 2908, 2060, 3774],\n",
       " [3641, 1574, 2135, 4123, 951, 2121, 2908, 0, 1458, 901],\n",
       " [3203, 2187, 1461, 2911, 2310, 2377, 2060, 1458, 0, 2312],\n",
       " [4383, 2074, 2998, 5022, 173, 2076, 3774, 901, 2312, 0]]"
      ]
     },
     "execution_count": 60,
     "metadata": {},
     "output_type": "execute_result"
    }
   ],
   "source": [
    "dict_locations = df_locations.to_dict(orient='records')\n",
    "distancematrix = DistanceMatrix(dict_locations)\n",
    "distancematrix"
   ]
  },
  {
   "cell_type": "code",
   "execution_count": 61,
   "metadata": {},
   "outputs": [
    {
     "name": "stdout",
     "output_type": "stream",
     "text": [
      "[[0 3 2 3 5 6 2 4 4 5]\n",
      " [3 0 2 4 3 4 3 2 3 2]\n",
      " [2 2 0 3 4 4 1 3 2 4]\n",
      " [3 4 3 0 6 6 2 5 3 6]\n",
      " [5 3 4 6 0 2 5 1 3 0]\n",
      " [6 4 4 6 2 0 5 2 3 2]\n",
      " [2 3 1 2 5 5 0 3 2 4]\n",
      " [4 2 3 5 1 2 3 0 2 1]\n",
      " [4 3 2 3 3 3 2 2 0 3]\n",
      " [5 2 4 6 0 2 4 1 3 0]]\n"
     ]
    }
   ],
   "source": [
    "#Assume air freight 850 km/hr\n",
    "average_speed = 850\n",
    "time_matrix = np.array(distancematrix) / average_speed\n",
    "time_matrix = np.round(time_matrix).astype(int)\n",
    "                       \n",
    "\n",
    "print(time_matrix)"
   ]
  },
  {
   "cell_type": "code",
   "execution_count": 62,
   "metadata": {},
   "outputs": [
    {
     "data": {
      "text/plain": [
       "' num_locations = time_matrix.shape[0]\\n\\n# Generate random time windows\\ndef generate_time_windows(num_locations):\\n    time_windows = []\\n    for i in range(num_locations):\\n        start = np.random.randint(0, 10)  # Random start time (hours)\\n        end = np.random.randint(start + 1, 15)  # Random end time (hours) ensuring it\\'s after the start\\n        time_windows.append((start, end))\\n    return time_windows\\n\\ntime_windows = generate_time_windows(num_locations)\\nprint(time_windows)\\n\\n# Print time windows for each location\\nfor i, (start, end) in enumerate(time_windows):\\n    print(f\"Location {i}: Time Window [{start}, {end}]\")\\n '"
      ]
     },
     "execution_count": 62,
     "metadata": {},
     "output_type": "execute_result"
    }
   ],
   "source": [
    "\"\"\" num_locations = time_matrix.shape[0]\n",
    "\n",
    "# Generate random time windows\n",
    "def generate_time_windows(num_locations):\n",
    "    time_windows = []\n",
    "    for i in range(num_locations):\n",
    "        start = np.random.randint(0, 10)  # Random start time (hours)\n",
    "        end = np.random.randint(start + 1, 15)  # Random end time (hours) ensuring it's after the start\n",
    "        time_windows.append((start, end))\n",
    "    return time_windows\n",
    "\n",
    "time_windows = generate_time_windows(num_locations)\n",
    "print(time_windows)\n",
    "\n",
    "# Print time windows for each location\n",
    "for i, (start, end) in enumerate(time_windows):\n",
    "    print(f\"Location {i}: Time Window [{start}, {end}]\")\n",
    " \"\"\""
   ]
  },
  {
   "cell_type": "code",
   "execution_count": 63,
   "metadata": {},
   "outputs": [
    {
     "data": {
      "text/plain": [
       "' [(2, 13), (0, 5), (1, 9), (9, 11), (2, 11), (5, 10), (0, 8), (7, 12), (3, 11), (8, 14)]\\nLocation 0: Time Window [2, 13]\\nLocation 1: Time Window [0, 5]\\nLocation 2: Time Window [1, 9]\\nLocation 3: Time Window [9, 11]\\nLocation 4: Time Window [2, 11]\\nLocation 5: Time Window [5, 10]\\nLocation 6: Time Window [0, 8]\\nLocation 7: Time Window [7, 12]\\nLocation 8: Time Window [3, 11]\\nLocation 9: Time Window [8, 14] '"
      ]
     },
     "execution_count": 63,
     "metadata": {},
     "output_type": "execute_result"
    }
   ],
   "source": [
    "\"\"\" [(2, 13), (0, 5), (1, 9), (9, 11), (2, 11), (5, 10), (0, 8), (7, 12), (3, 11), (8, 14)]\n",
    "Location 0: Time Window [2, 13]\n",
    "Location 1: Time Window [0, 5]\n",
    "Location 2: Time Window [1, 9]\n",
    "Location 3: Time Window [9, 11]\n",
    "Location 4: Time Window [2, 11]\n",
    "Location 5: Time Window [5, 10]\n",
    "Location 6: Time Window [0, 8]\n",
    "Location 7: Time Window [7, 12]\n",
    "Location 8: Time Window [3, 11]\n",
    "Location 9: Time Window [8, 14] \"\"\""
   ]
  },
  {
   "cell_type": "code",
   "execution_count": 64,
   "metadata": {},
   "outputs": [],
   "source": [
    "def create_data_model():\n",
    "    data = {}\n",
    "    data['time_matrix'] = time_matrix\n",
    "    data['time_windows'] = [(0, 5), (2, 13), (1, 9), (9, 11), (2, 11), (5, 10), (0, 8), (7, 12), (3, 11), (8, 14)]\n",
    "    data['num_vehicles'] = 2\n",
    "    data['depot'] = 0\n",
    "    return data"
   ]
  },
  {
   "cell_type": "code",
   "execution_count": 65,
   "metadata": {},
   "outputs": [
    {
     "name": "stdout",
     "output_type": "stream",
     "text": [
      "Objective: 22\n",
      "Route for vehicle 0:\n",
      "0 Time(0,0) -> 6 Time(2,2) -> 2 Time(3,3) -> 8 Time(5,5) -> 5 Time(8,8) -> 9 Time(10,10) -> 4 Time(10,10) -> 7 Time(11,11) -> 1 Time(13,13) -> 0 Time(16,16)\n",
      "Time of the route: 16hours\n",
      "\n",
      "Route for vehicle 1:\n",
      "0 Time(0,0) -> 3 Time(9,9) -> 0 Time(12,12)\n",
      "Time of the route: 12hours\n",
      "\n",
      "Total time of all routes: 28hours\n"
     ]
    }
   ],
   "source": [
    "cumul_data = []\n",
    "routes = []\n",
    "\n",
    "def print_solution(data, manager, routing, solution):\n",
    "    \"\"\"Prints solution on console.\"\"\"\n",
    "    print(f\"Objective: {solution.ObjectiveValue()}\")\n",
    "    time_dimension = routing.GetDimensionOrDie(\"Time\")\n",
    "    total_time = 0\n",
    "    for vehicle_id in range(data[\"num_vehicles\"]):\n",
    "        index = routing.Start(vehicle_id)\n",
    "        plan_output = f\"Route for vehicle {vehicle_id}:\\n\"\n",
    "        while not routing.IsEnd(index):\n",
    "            time_var = time_dimension.CumulVar(index)\n",
    "            plan_output += (\n",
    "                f\"{manager.IndexToNode(index)}\"\n",
    "                f\" Time({solution.Min(time_var)},{solution.Max(time_var)})\"\n",
    "                \" -> \"\n",
    "            )\n",
    "            index = solution.Value(routing.NextVar(index))\n",
    "        time_var = time_dimension.CumulVar(index)\n",
    "        plan_output += (\n",
    "            f\"{manager.IndexToNode(index)}\"\n",
    "            f\" Time({solution.Min(time_var)},{solution.Max(time_var)})\\n\"\n",
    "        )\n",
    "        plan_output += f\"Time of the route: {solution.Min(time_var)}hours\\n\"\n",
    "        print(plan_output)\n",
    "        total_time += solution.Min(time_var)\n",
    "    print(f\"Total time of all routes: {total_time}hours\")\n",
    "\n",
    "def get_routes(solution, routing, manager):\n",
    "    global routes\n",
    "    routes = []\n",
    "    for route_nbr in range(routing.vehicles()):\n",
    "        index = routing.Start(route_nbr)\n",
    "        route = [manager.IndexToNode(index)]\n",
    "        while not routing.IsEnd(index):\n",
    "            index = solution.Value(routing.NextVar(index))\n",
    "            route.append(manager.IndexToNode(index))\n",
    "        routes.append(route)\n",
    "    return routes\n",
    "\n",
    "def get_cumul_data(solution, routing, dimension):\n",
    "  \"\"\"Get cumulative data from a dimension and store it in an array.\"\"\"\n",
    "  # Returns an array cumul_data whose i,j entry contains the minimum and\n",
    "  # maximum of CumulVar for the dimension at the jth node on route :\n",
    "  # - cumul_data[i][j][0] is the minimum.\n",
    "  # - cumul_data[i][j][1] is the maximum.\n",
    "  global cumul_data\n",
    "  cumul_data = []\n",
    "  for route_nbr in range(routing.vehicles()):\n",
    "    route_data = []\n",
    "    index = routing.Start(route_nbr)\n",
    "    dim_var = dimension.CumulVar(index)\n",
    "    route_data.append([solution.Min(dim_var), solution.Max(dim_var)])\n",
    "    while not routing.IsEnd(index):\n",
    "      index = solution.Value(routing.NextVar(index))\n",
    "      dim_var = dimension.CumulVar(index)\n",
    "      route_data.append([solution.Min(dim_var), solution.Max(dim_var)])\n",
    "    cumul_data.append(route_data)\n",
    "  return cumul_data\n",
    "\n",
    "def get_routes(solution, routing, manager):\n",
    "  global routes\n",
    "  routes = []\n",
    "  for route_nbr in range(routing.vehicles()):\n",
    "    index = routing.Start(route_nbr)\n",
    "    route = [manager.IndexToNode(index)]\n",
    "    while not routing.IsEnd(index):\n",
    "      index = solution.Value(routing.NextVar(index))\n",
    "      route.append(manager.IndexToNode(index))\n",
    "    routes.append(route)\n",
    "  return routes\n",
    "\n",
    "def main():\n",
    "    \"\"\"Solve the VRP with time windows.\"\"\"\n",
    "    # Instantiate the data problem.\n",
    "    data = create_data_model()\n",
    "\n",
    "    # Create the routing index manager.\n",
    "    manager = pywrapcp.RoutingIndexManager(\n",
    "        len(data[\"time_matrix\"]), data[\"num_vehicles\"], data[\"depot\"]\n",
    "    )\n",
    "\n",
    "    # Create Routing Model.\n",
    "    routing = pywrapcp.RoutingModel(manager)\n",
    "\n",
    "    # Create and register a transit callback.\n",
    "    def time_callback(from_index, to_index):\n",
    "        \"\"\"Returns the travel time between the two nodes.\"\"\"\n",
    "        # Convert from routing variable Index to time matrix NodeIndex.\n",
    "        from_node = manager.IndexToNode(from_index)\n",
    "        to_node = manager.IndexToNode(to_index)\n",
    "        return data[\"time_matrix\"][from_node][to_node]\n",
    "\n",
    "    transit_callback_index = routing.RegisterTransitCallback(time_callback)\n",
    "\n",
    "    # Define cost of each arc.\n",
    "    routing.SetArcCostEvaluatorOfAllVehicles(transit_callback_index)\n",
    "\n",
    "    # Add Time Windows constraint.\n",
    "    time = \"Time\"\n",
    "    routing.AddDimension(\n",
    "        transit_callback_index,\n",
    "        30,  # allow waiting time\n",
    "        30,  # maximum time per vehicle\n",
    "        False,  # Don't force start cumul to zero.\n",
    "        time,\n",
    "    )\n",
    "    time_dimension = routing.GetDimensionOrDie(time)\n",
    "    # Add time window constraints for each location except depot.\n",
    "    for location_idx, time_window in enumerate(data[\"time_windows\"]):\n",
    "        if location_idx == data[\"depot\"]:\n",
    "            continue\n",
    "        index = manager.NodeToIndex(location_idx)\n",
    "        time_dimension.CumulVar(index).SetRange(time_window[0], time_window[1])\n",
    "    # Add time window constraints for each vehicle start node.\n",
    "    depot_idx = data[\"depot\"]\n",
    "    for vehicle_id in range(data[\"num_vehicles\"]):\n",
    "        index = routing.Start(vehicle_id)\n",
    "        time_dimension.CumulVar(index).SetRange(\n",
    "            data[\"time_windows\"][depot_idx][0], data[\"time_windows\"][depot_idx][1]\n",
    "        )\n",
    "\n",
    "    # Instantiate route start and end times to produce feasible times.\n",
    "    for i in range(data[\"num_vehicles\"]):\n",
    "        routing.AddVariableMinimizedByFinalizer(\n",
    "            time_dimension.CumulVar(routing.Start(i))\n",
    "        )\n",
    "        routing.AddVariableMinimizedByFinalizer(time_dimension.CumulVar(routing.End(i)))\n",
    "\n",
    "    # Setting first solution heuristic.\n",
    "    search_parameters = pywrapcp.DefaultRoutingSearchParameters()\n",
    "    search_parameters.first_solution_strategy = (\n",
    "        routing_enums_pb2.FirstSolutionStrategy.PATH_CHEAPEST_ARC\n",
    "    )\n",
    "\n",
    "    # Solve the problem.\n",
    "    solution = routing.SolveWithParameters(search_parameters)\n",
    "\n",
    "    # Print solution on console.\n",
    "    if solution:\n",
    "        print_solution(data, manager, routing, solution)\n",
    "        get_cumul_data(solution, routing, time_dimension)\n",
    "        get_routes(solution, routing, manager)\n",
    "\n",
    "    else:\n",
    "       print(\"Not found\")\n",
    "\n",
    "\n",
    "if __name__ == \"__main__\":\n",
    "    main()\n"
   ]
  },
  {
   "cell_type": "code",
   "execution_count": 66,
   "metadata": {},
   "outputs": [
    {
     "data": {
      "text/plain": [
       "[[[0, 0],\n",
       "  [2, 2],\n",
       "  [3, 3],\n",
       "  [5, 5],\n",
       "  [8, 8],\n",
       "  [10, 10],\n",
       "  [10, 10],\n",
       "  [11, 11],\n",
       "  [13, 13],\n",
       "  [16, 16]],\n",
       " [[0, 0], [9, 9], [12, 12]]]"
      ]
     },
     "execution_count": 66,
     "metadata": {},
     "output_type": "execute_result"
    }
   ],
   "source": [
    "cumul_data"
   ]
  },
  {
   "cell_type": "code",
   "execution_count": 67,
   "metadata": {},
   "outputs": [
    {
     "data": {
      "text/plain": [
       "[[0, 6, 2, 8, 5, 9, 4, 7, 1, 0], [0, 3, 0]]"
      ]
     },
     "execution_count": 67,
     "metadata": {},
     "output_type": "execute_result"
    }
   ],
   "source": [
    "routes"
   ]
  },
  {
   "cell_type": "code",
   "execution_count": 68,
   "metadata": {},
   "outputs": [
    {
     "data": {
      "text/plain": [
       "{0: [[np.float64(32.7157), np.float64(-117.1611)],\n",
       "  [np.float64(40.7608), np.float64(-111.891)],\n",
       "  [np.float64(39.7392), np.float64(-104.9903)],\n",
       "  [np.float64(44.9778), np.float64(-93.265)],\n",
       "  [np.float64(43.6615), np.float64(-70.2793)],\n",
       "  [np.float64(32.078), np.float64(-81.0912)],\n",
       "  [np.float64(32.7765), np.float64(-79.9311)],\n",
       "  [np.float64(36.1627), np.float64(-86.7816)],\n",
       "  [np.float64(30.2672), np.float64(-97.7431)],\n",
       "  [np.float64(32.7157), np.float64(-117.1611)]],\n",
       " 1: [[np.float64(32.7157), np.float64(-117.1611)],\n",
       "  [np.float64(47.6062), np.float64(-122.3321)],\n",
       "  [np.float64(32.7157), np.float64(-117.1611)]]}"
      ]
     },
     "execution_count": 68,
     "metadata": {},
     "output_type": "execute_result"
    }
   ],
   "source": [
    "def mapping(df,routes):\n",
    "    # Remove unused routes [0,0]\n",
    "    filtered_routes = [route for route in routes if len(route) != 2]\n",
    "    # Map coordinates for the remaining routes\n",
    "    routes_coordinates = {}\n",
    "    for i, route in enumerate(filtered_routes):\n",
    "        coordinates = []\n",
    "        for path in route:\n",
    "            coordinates.append([df.iloc[path]['lat'], df.iloc[path]['lon']])\n",
    "        routes_coordinates[i] = coordinates\n",
    "    \n",
    "    return routes_coordinates\n",
    "\n",
    "coordinates = mapping(df_locations,routes)\n",
    "coordinates"
   ]
  },
  {
   "cell_type": "code",
   "execution_count": 69,
   "metadata": {},
   "outputs": [],
   "source": [
    "# Map\n",
    "map_center = [df_locations['lat'].mean(), df_locations['lon'].mean()]\n",
    "custom =\"cartodb positron\"\n",
    "map = folium.Map(location=map_center, zoom_start=4, tiles=custom)\n",
    "\n",
    "# Choose location\n",
    "locations = df_locations\n",
    "\n",
    "# Name of map\n",
    "map_name = \"./maps/VRPTW.html\"\n",
    "map.save(map_name)"
   ]
  },
  {
   "cell_type": "code",
   "execution_count": 70,
   "metadata": {},
   "outputs": [],
   "source": [
    "# Add marker\n",
    "destination = df_locations.drop(index=0)\n",
    "\n",
    "for _,row in destination.iterrows():\n",
    "    folium.Circle(\n",
    "        location=[row['lat'],row['lon']],\n",
    "        radius=10000,  # Radius in pixels\n",
    "        color='red',\n",
    "        fill=True,\n",
    "        fill_color='red',\n",
    "        fill_opacity=0.6,\n",
    "        tooltip=row['name'],\n",
    "    ).add_to(map)\n",
    "\n",
    "\"\"\" folium.Marker(\n",
    "    location=[df_locations.iloc[0]['lat'],df_locations.iloc[0]['lon']],\n",
    "    popup=df_locations.iloc[0]['name'],\n",
    "    icon=folium.Icon(color='lightred') \n",
    "    ).add_to(map) \"\"\"\n",
    "\n",
    "folium.Circle(\n",
    "    location=[df_locations.iloc[0]['lat'],df_locations.iloc[0]['lon']],\n",
    "    radius=10000,  # Radius in pixels\n",
    "    color='blue',\n",
    "    fill=True,\n",
    "    fill_color='blue',\n",
    "    fill_opacity=0.6,\n",
    "    tooltip=df_locations.iloc[0]['name']\n",
    ").add_to(map)\n",
    "\n",
    "map.save(map_name)"
   ]
  },
  {
   "cell_type": "code",
   "execution_count": 71,
   "metadata": {},
   "outputs": [],
   "source": [
    "# Add edge\n",
    "for coordinate in coordinates.values():\n",
    "    folium.PolyLine(\n",
    "        locations=coordinate,\n",
    "        color=\"#ff6f00\",\n",
    "        weight=1,\n",
    "        tooltip=\"TSP\"\n",
    "    ).add_to(map)\n",
    "\n",
    "map.save(map_name)"
   ]
  }
 ],
 "metadata": {
  "kernelspec": {
   "display_name": ".venv",
   "language": "python",
   "name": "python3"
  },
  "language_info": {
   "codemirror_mode": {
    "name": "ipython",
    "version": 3
   },
   "file_extension": ".py",
   "mimetype": "text/x-python",
   "name": "python",
   "nbconvert_exporter": "python",
   "pygments_lexer": "ipython3",
   "version": "3.12.4"
  }
 },
 "nbformat": 4,
 "nbformat_minor": 2
}
